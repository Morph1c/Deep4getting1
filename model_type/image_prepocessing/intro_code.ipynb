{
 "cells": [
  {
   "cell_type": "code",
   "execution_count": null,
   "metadata": {},
   "outputs": [
    {
     "name": "stdout",
     "output_type": "stream",
     "text": [
      "2.13.0\n"
     ]
    }
   ],
   "source": [
    "seed = 42\n",
    "\n",
    "import os\n",
    "os.environ['TF_CPP_MIN_LOG_LEVEL'] = '3'\n",
    "os.environ['PYTHONHASHSEED'] = str(seed)\n",
    "os.environ['MPLCONFIGDIR'] = os.getcwd()+'/configs/'\n",
    "\n",
    "import warnings\n",
    "warnings.simplefilter(action='ignore', category=FutureWarning)\n",
    "warnings.simplefilter(action='ignore', category=Warning)\n",
    "\n",
    "import numpy as np\n",
    "np.random.seed(seed)\n",
    "\n",
    "import logging\n",
    "\n",
    "import random\n",
    "random.seed(seed)\n",
    "\n",
    "# Import tensorflow\n",
    "import tensorflow as tf\n",
    "from tensorflow import keras as tfk\n",
    "from tensorflow.keras import layers as tfkl\n",
    "tf.autograph.set_verbosity(0)\n",
    "tf.get_logger().setLevel(logging.ERROR)\n",
    "tf.compat.v1.logging.set_verbosity(tf.compat.v1.logging.ERROR)\n",
    "tf.random.set_seed(seed)\n",
    "tf.compat.v1.set_random_seed(seed)\n",
    "print(tf.__version__)\n",
    "\n",
    "# Import other libraries\n",
    "import cv2\n",
    "from tensorflow.keras.applications.mobilenet import preprocess_input\n",
    "import matplotlib.pyplot as plt\n",
    "from sklearn.model_selection import train_test_split\n",
    "\n",
    "#for gan...\n",
    "# import visualkeras\n",
    "\n",
    "# import imageio\n",
    "# from PIL import Image\n",
    "# from IPython.display import display\n",
    "# import seaborn as sns\n",
    "# import warnings\n",
    "# import logging\n",
    "\n",
    "\n"
   ]
  },
  {
   "cell_type": "markdown",
   "metadata": {},
   "source": [
    "### Suppress warnings"
   ]
  },
  {
   "cell_type": "code",
   "execution_count": null,
   "metadata": {},
   "outputs": [],
   "source": [
    "os.environ['TF_CPP_MIN_LOG_LEVEL'] = '3'\n",
    "warnings.simplefilter(action='ignore', category=FutureWarning)\n",
    "warnings.simplefilter(action='ignore', category=Warning)\n",
    "tf.get_logger().setLevel('INFO')\n",
    "tf.autograph.set_verbosity(0)\n",
    "\n",
    "tf.get_logger().setLevel(logging.ERROR)\n",
    "tf.get_logger().setLevel('ERROR')\n",
    "tf.compat.v1.logging.set_verbosity(tf.compat.v1.logging.ERROR)"
   ]
  },
  {
   "cell_type": "code",
   "execution_count": null,
   "metadata": {},
   "outputs": [
    {
     "data": {
      "text/plain": [
       "(array([False,  True]), array([3199, 2001], dtype=int64))"
      ]
     },
     "metadata": {},
     "output_type": "display_data"
    }
   ],
   "source": [
    "# Conditional check for unzipping\n",
    "unzip = True\n",
    "\n",
    "# Unzip the 'animals.zip' file if the 'unzip' flag is True\n",
    "if unzip:\n",
    "    !unzip public_data.zip\n",
    "\n",
    "dfile = \"public_data.npz\"\n",
    "data = np.load(dfile, allow_pickle = True)\n",
    "\n",
    "\n",
    "X = data[\"data\"]\n",
    "unhealthy = data[\"labels\"] == \"unhealthy\" #unhealthy indices\n",
    "healthy = ~unhealthy #healthy indices\n",
    "\n",
    "\n",
    "\n",
    "input_shape = (96, 96, 3)\n",
    "unh = X[unhealthy]\n",
    "hea = X[ ~unhealthy]\n",
    "\n",
    "np.unique(unhealthy, return_counts = True) #we have \n",
    "#3199 healthy X\n",
    "#2001 unhealthy X\n"
   ]
  },
  {
   "cell_type": "markdown",
   "metadata": {},
   "source": [
    "### Collect indices of \"Shrek\" and \"Trololo\" and remove them"
   ]
  },
  {
   "cell_type": "code",
   "execution_count": null,
   "metadata": {},
   "outputs": [],
   "source": [
    "#RUN ONLY ONCE!!!\n",
    "val_trololo = np.sum(hea[202])# we got a trololo at position 202 of unhealthy vector\n",
    "idx_trololo = np.array([], dtype = int)\n",
    "val_shreck = np.sum(unh[20]) #first shrek at position 20\n",
    "idx_shrek = np.array([], dtype = int)\n",
    "for i in range(len(hea)):\n",
    "    if np.sum(hea[i]) == val_trololo:\n",
    "        idx_trololo = np.append(idx_trololo, i)\n",
    "\n",
    "for i in range(len(unh)):\n",
    "    if np.sum(unh[i]) == val_shreck:\n",
    "        idx_shrek =np.append(idx_shrek, i)\n",
    "\n",
    "#new set of images without 98 shrek and 98 trololo\n",
    "unh = np.delete(unh, idx_shrek, axis = 0)\n",
    "hea = np.delete(hea, idx_trololo, axis = 0)\n",
    "X = np.concatenate((unh, hea))\n",
    "\n",
    "unhealthy = np.delete(unhealthy, idx_shrek, axis = 0)\n",
    "healthy = np.delete(healthy, idx_trololo, axis = 0)\n",
    "y = np.concatenate((np.repeat(0, len(unh)),np.repeat(1, len(hea))))\n",
    "\n"
   ]
  }
 ],
 "metadata": {
  "language_info": {
   "name": "python"
  }
 },
 "nbformat": 4,
 "nbformat_minor": 2
}
