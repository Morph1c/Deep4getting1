{
 "cells": [
  {
   "cell_type": "markdown",
   "metadata": {},
   "source": [
    "ACTUAL TEST ACCURACY: 0.63%"
   ]
  },
  {
   "cell_type": "code",
   "execution_count": null,
   "metadata": {},
   "outputs": [],
   "source": [
    "def CNNvanilla_augmentation(input_shape=input_shape, output_shape=output_shape):\n",
    "    tf.random.set_seed(seed)\n",
    "\n",
    "    # add augmentation at the beginning\n",
    "    preprocessing = tf.keras.Sequential([\n",
    "        #tfkl.RandomBrightness(0.2, value_range=(0,1)),\n",
    "        tfkl.RandomTranslation(0.2,0.2),\n",
    "        layers.RandomFlip(),\n",
    "        layers.RandomZoom(height_factor=(0.2, 0.3)),\n",
    "        \n",
    "    ], name='preprocessing')\n",
    "\n",
    "    # Build the neural network layer by layer\n",
    "    input_layer = tfkl.Input(shape=input_shape, name='Input')\n",
    "\n",
    "    preprocessing = preprocessing(input_layer)\n",
    "\n",
    "    x = tfkl.Conv2D(filters=32, kernel_size=3, padding='same', name='conv0')(preprocessing)\n",
    "    x = tfkl.ReLU(name='relu0')(x)\n",
    "    x = tfkl.MaxPooling2D(name='mp0')(x)\n",
    "\n",
    "    x = tfkl.Conv2D(filters=64, kernel_size=3, padding='same', name='conv1')(x)\n",
    "    x = tfkl.ReLU(name='relu1')(x)\n",
    "    x = tfkl.MaxPooling2D(name='mp1')(x)\n",
    "\n",
    "    x = tfkl.Conv2D(filters=128, kernel_size=3, padding='same', name='conv2')(x)\n",
    "    x = tfkl.ReLU(name='relu2')(x)\n",
    "    x = tfkl.MaxPooling2D(name='mp2')(x)\n",
    "\n",
    "    x = tfkl.Conv2D(filters=256, kernel_size=3, padding='same', name='conv3')(x)\n",
    "    x = tfkl.ReLU(name='relu3')(x)\n",
    "    x = tfkl.MaxPooling2D(name='mp3')(x)\n",
    "\n",
    "    x = tfkl.Conv2D(filters=512, kernel_size=3, padding='same', name='conv4')(x)\n",
    "    x = tfkl.ReLU(name='relu4')(x)\n",
    "\n",
    "    x = tfkl.GlobalAveragePooling2D(name='gap')(x)\n",
    "\n",
    "    x  = tfkl.Dense(units=128, kernel_initializer=tf.initializers.HeUniform(seed=seed), activation='relu',name='Output1')(x)\n",
    "    x =  layers.Dropout(0.2)(x)\n",
    "\n",
    "    output_layer = tfkl.Dense(units=2, activation='softmax',name='Output2')(x)\n",
    "\n",
    "    # Connect input and output through the Model class\n",
    "    model = tfk.Model(inputs=input_layer, outputs=output_layer, name='CNN')\n",
    "\n",
    "    # Compile the model\n",
    "    model.compile(loss=tfk.losses.BinaryCrossentropy(), optimizer=tfk.optimizers.Adam(), metrics=['accuracy'])\n",
    "\n",
    "    # Return the model\n",
    "    return model"
   ]
  },
  {
   "cell_type": "code",
   "execution_count": null,
   "metadata": {},
   "outputs": [],
   "source": [
    "tf.keras.callbacks.ModelCheckpoint(filepath=checkpoint_path,\n",
    "                                                  save_weights_only=True,\n",
    "                                                  verbose=1)\n",
    "\n",
    "augmented_model = CNNvanilla_augmentation()\n",
    "augmented_model.summary()\n",
    "callbacks = [\n",
    "    tfk.callbacks.EarlyStopping(monitor='val_accuracy', patience=100, restore_best_weights=True, mode='auto'),\n",
    "    tf.keras.callbacks.ModelCheckpoint(filepath=checkpoint_path,\n",
    "                                                  save_weights_only=True,\n",
    "                                                  verbose=1)\n",
    "]"
   ]
  },
  {
   "cell_type": "code",
   "execution_count": null,
   "metadata": {},
   "outputs": [],
   "source": [
    "\n",
    "aug_history = CNNvanilla_augmentation.fit(\n",
    "    x = X_train,\n",
    "    y = y_train,\n",
    "    batch_size = 32,\n",
    "    epochs = 100,\n",
    "    validation_data = (X_val, y_val),\n",
    "    callbacks = callbacks\n",
    ").history"
   ]
  }
 ],
 "metadata": {
  "language_info": {
   "name": "python"
  }
 },
 "nbformat": 4,
 "nbformat_minor": 2
}
